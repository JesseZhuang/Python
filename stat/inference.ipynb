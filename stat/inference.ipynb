{
 "cells": [
  {
   "cell_type": "code",
   "execution_count": 106,
   "metadata": {},
   "outputs": [],
   "source": [
    "import matplotlib.pyplot as plt\n",
    "import math"
   ]
  },
  {
   "cell_type": "markdown",
   "metadata": {},
   "source": [
    "# Problem Description\n",
    "\n",
    "There are two bags (bag a and bag b) which has vouchers of different values and amounts shown as below. A person is shown one bag of the two and can randomly pick one voucher from that bag. Then the person choose to keep the bag or choose the other bag.\n",
    "\n",
    "Decide bwtween two competing theories:\n",
    "- Null: shown bag is bag a\n",
    "- Alternative: shown bag is bag b\n",
    "\n",
    "Since bag a overall balance is negative, which is worse than bag b. Predicting bag a can be predicting a positive (not healthy)."
   ]
  },
  {
   "cell_type": "code",
   "execution_count": 107,
   "metadata": {},
   "outputs": [],
   "source": [
    "bag_a_voucher_values=[-1000, 10, 20, 30, 40, 50, 60]\n",
    "bag_b_voucher_values=[10, 20, 30, 40, 50, 60, 1000]\n",
    "bag_a_voucher_amount=[1, 7, 6, 2, 2, 1, 1]\n",
    "bag_b_voucher_amount=[1,1,2,2,6,7,1]"
   ]
  },
  {
   "cell_type": "code",
   "execution_count": 108,
   "metadata": {},
   "outputs": [],
   "source": [
    "# incorporate negative y\n",
    "def log_scale(list):\n",
    "    return [math.copysign(1, y)*math.log(1 + abs(y)/40) for y in list]"
   ]
  },
  {
   "cell_type": "code",
   "execution_count": 109,
   "metadata": {},
   "outputs": [
    {
     "name": "stdout",
     "output_type": "stream",
     "text": [
      "[-3.258096538021482, 0.22314355131420976, 0.4054651081081644, 0.5596157879354227, 0.6931471805599453, 0.8109302162163288, 0.9162907318741551]\n",
      "[0.22314355131420976, 0.4054651081081644, 0.5596157879354227, 0.6931471805599453, 0.8109302162163288, 0.9162907318741551, 3.258096538021482]\n"
     ]
    }
   ],
   "source": [
    "print(log_scale(bag_a_voucher_values))\n",
    "print(log_scale(bag_b_voucher_values))"
   ]
  },
  {
   "cell_type": "code",
   "execution_count": 110,
   "metadata": {
    "scrolled": false
   },
   "outputs": [
    {
     "data": {
      "image/png": "[encoded data removed]",
      "text/plain": [
       "<Figure size 432x288 with 1 Axes>"
      ]
     },
     "metadata": {
      "needs_background": "light"
     },
     "output_type": "display_data"
    }
   ],
   "source": [
    "plt.plot(log_scale(bag_a_voucher_values), bag_a_voucher_amount, 'rs', label='a', markerfacecolor='none')\n",
    "plt.plot(log_scale(bag_b_voucher_values), bag_b_voucher_amount, 'bo', label='b', markerfacecolor='none')\n",
    "# plt.xscale(\"log\") # log scale on x axis\n",
    "plt.legend(title='bag')\n",
    "plt.show()"
   ]
  },
  {
   "cell_type": "code",
   "execution_count": 111,
   "metadata": {},
   "outputs": [
    {
     "name": "stdout",
     "output_type": "stream",
     "text": [
      "bag a vouchers 20\n",
      "bag b vouchers 20\n"
     ]
    }
   ],
   "source": [
    "# total number of vouchers\n",
    "print(\"bag a vouchers\", sum(bag_a_voucher_amount))\n",
    "print(\"bag b vouchers\", sum(bag_b_voucher_amount))"
   ]
  },
  {
   "cell_type": "markdown",
   "metadata": {},
   "source": [
    "## Errors\n",
    "\n",
    "- Type I Error: reject null when null is true (false negative). Type I error probability denoted by Alpha $\\alpha$, also called the significance level.\n",
    "- Type II Error: do not reject null when alternative true (false positive). Type II error probability denoted by Beta $\\beta$."
   ]
  },
  {
   "cell_type": "markdown",
   "metadata": {},
   "source": [
    "## Decision rule\n",
    "\n",
    "Reject Null if voucher is \\$50 or higher.\n",
    "\n",
    "$\\alpha=\\frac{2}{20}=10\\%$ when bag is bag a and we picked a voucher of \\$50 or higher.\n",
    "\n",
    "$\\beta=\\frac{6}{20}=30\\%$ when bag is bag b and we picked a voucher of less than \\$50."
   ]
  },
  {
   "cell_type": "markdown",
   "metadata": {},
   "source": [
    "## Decision rule\n",
    "\n",
    "Set significance level up front, take sample data and calculate from that data the probability called the p-value if the null theroy were true. Reject the null if $p{\\text-} value<=alpha$.\n",
    "\n",
    "p-value is the probability of getting what we got or higher.\n",
    "\n",
    "For example, if picked voucher is \\$50,\n",
    "\n",
    "p-value is probability of getting \\$50 or more : 2/20 = 10% = significance level."
   ]
  }
 ],
 "metadata": {
  "kernelspec": {
   "display_name": "Python 3",
   "language": "python",
   "name": "python3"
  },
  "language_info": {
   "codemirror_mode": {
    "name": "ipython",
    "version": 3
   },
   "file_extension": ".py",
   "mimetype": "text/x-python",
   "name": "python",
   "nbconvert_exporter": "python",
   "pygments_lexer": "ipython3",
   "version": "3.7.3"
  }
 },
 "nbformat": 4,
 "nbformat_minor": 2
}
