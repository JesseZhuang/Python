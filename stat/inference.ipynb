{
 "cells": [
  {
   "cell_type": "code",
   "execution_count": 11,
   "metadata": {},
   "outputs": [],
   "source": [
    "import matplotlib.pyplot as plt"
   ]
  },
  {
   "cell_type": "markdown",
   "metadata": {},
   "source": [
    "# Problem Description\n",
    "\n",
    "There are two bags (bag a and bag b) which has vouchers of different values and amounts shown as below. A person is shown one bag of the two and can randomly pick one voucher from that bag. Then the person choose to keep the bag or choose the other bag.\n",
    "\n",
    "Decide bwtween two competing theories:\n",
    "- Null: shown bag is bag a\n",
    "- Alternative: shown bag is bag b\n",
    "\n",
    "Since bag a overall balance is negative, which is worse than bag b. Predicting bag a can be predicting a positive (not healthy)."
   ]
  },
  {
   "cell_type": "code",
   "execution_count": 12,
   "metadata": {},
   "outputs": [],
   "source": [
    "bag_a_voucher_values=[-1000, 10, 20, 30, 40, 50, 60]\n",
    "bag_b_voucher_values=[10, 20, 30, 40, 50, 60, 1000]\n",
    "bag_a_voucher_amount=[1, 7, 6, 2, 2, 1, 1]\n",
    "bag_b_voucher_amount=[1,1,2,2,6,7,1]"
   ]
  },
  {
   "cell_type": "code",
   "execution_count": 18,
   "metadata": {
    "scrolled": false
   },
   "outputs": [
    {
     "data": {
      "image/png": "[encoded data removed]",
      "text/plain": [
       "<Figure size 432x288 with 1 Axes>"
      ]
     },
     "metadata": {
      "needs_background": "light"
     },
     "output_type": "display_data"
    }
   ],
   "source": [
    "plt.plot(bag_a_voucher_values, bag_a_voucher_amount, 'ro', label='a')\n",
    "plt.plot(bag_b_voucher_values, bag_b_voucher_amount, 'bo', label='b')\n",
    "plt.xscale(\"log\") # log scale on x axis\n",
    "plt.legend(title='bag')\n",
    "plt.show()"
   ]
  },
  {
   "cell_type": "code",
   "execution_count": 21,
   "metadata": {},
   "outputs": [
    {
     "name": "stdout",
     "output_type": "stream",
     "text": [
      "bag a vouchers 20\n",
      "bag b vouchers 20\n"
     ]
    }
   ],
   "source": [
    "# total number of vouchers\n",
    "print(\"bag a vouchers\", sum(bag_a_voucher_amount))\n",
    "print(\"bag b vouchers\", sum(bag_b_voucher_amount))"
   ]
  },
  {
   "cell_type": "markdown",
   "metadata": {},
   "source": [
    "## Errors\n",
    "\n",
    "- Type I Error: reject null when null is true (false negative). Type I error probability denoted by Alpha $\\alpha$, also called the significance level.\n",
    "- Type II Error: do not reject null when alternative true (false positive). Type II error probability denoted by Beta $\\beta$."
   ]
  },
  {
   "cell_type": "markdown",
   "metadata": {},
   "source": [
    "## Decision rule\n",
    "\n",
    "Reject Null if voucher is \\$50 or higher.\n",
    "\n",
    "$\\alpha=\\frac{2}{20}=10\\%$ when bag is bag a and we picked a voucher of \\$50 or higher.\n",
    "\n",
    "$\\beta=\\frac{6}{20}=30\\%$ when bag is bag b and we picked a voucher of less than \\$50."
   ]
  },
  {
   "cell_type": "markdown",
   "metadata": {},
   "source": [
    "## Decision rule\n",
    "\n",
    "Reject the null if $p{\\text-} value<=alpha$.\n",
    "\n",
    "p-value is the probability of getting what we got or higher.\n",
    "\n",
    "For example, if picked voucher is \\$50,\n",
    "\n",
    "p-value is probability of getting \\$50 or more : 2/20 = 10% = significance level."
   ]
  }
 ],
 "metadata": {
  "kernelspec": {
   "display_name": "Python 3",
   "language": "python",
   "name": "python3"
  },
  "language_info": {
   "codemirror_mode": {
    "name": "ipython",
    "version": 3
   },
   "file_extension": ".py",
   "mimetype": "text/x-python",
   "name": "python",
   "nbconvert_exporter": "python",
   "pygments_lexer": "ipython3",
   "version": "3.7.3"
  }
 },
 "nbformat": 4,
 "nbformat_minor": 2
}
