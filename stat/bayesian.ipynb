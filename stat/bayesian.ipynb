{
 "cells": [
  {
   "cell_type": "markdown",
   "metadata": {},
   "source": [
    "# Frequentist and Bayesian\n",
    "\n",
    "Question\n",
    "\n",
    "Which team won 2018 world cup and assign probability to your guess.\n",
    "\n",
    "The idea in frequentist statistics is because the game has already been played, we already know the answer. Your answer is either correct or incorrect. You either have a zero percent chance of getting it right or a 100 percent chance. Any number that you assign in between can only be given in the Bayesian framework. The reason for this is that in frequentist statistics, probabilities are made of the world. So, whether something is actually correct or incorrect. But in Bayesian statistics, probabilities are made in your mind.\n",
    "\n",
    "Now, in either case before any of the games are played, you can go through and make a number of probability calculations.\n",
    "\n",
    "However, you might also know that Germany tends to do fairly well, and so you might want to up-weight their probability. Maybe not say three percent chance, but say a five percent chance. You'll have to take that probability away from another team of winning. The big idea here is that in frequentist statistics, you can make those updates and those calculations before the games are played. However, once any of the games are played, this isn't allowed anymore. But in Bayesian statistics, you can update that as long as you don't know the answer. "
   ]
  },
  {
   "cell_type": "markdown",
   "metadata": {},
   "source": [
    "## Example\n",
    "\n",
    "- Bag 1: 2 silver chocolates\n",
    "- Bag 2: 1 silver chocolate and 1 purple chocolate\n",
    "\n",
    "You are shown 1 of the 2 bags and picked 1 chocolate. It's a silver chocolate.\n",
    "\n",
    "In frequentist world, shown bag is bag 1 probability is still 50%.\n",
    "\n",
    "In Bayesian world, shown bag is bag 1 probability is $\\frac{2}{3}$."
   ]
  }
 ],
 "metadata": {
  "kernelspec": {
   "display_name": "Python 3",
   "language": "python",
   "name": "python3"
  },
  "language_info": {
   "codemirror_mode": {
    "name": "ipython",
    "version": 3
   },
   "file_extension": ".py",
   "mimetype": "text/x-python",
   "name": "python",
   "nbconvert_exporter": "python",
   "pygments_lexer": "ipython3",
   "version": "3.7.3"
  }
 },
 "nbformat": 4,
 "nbformat_minor": 2
}
