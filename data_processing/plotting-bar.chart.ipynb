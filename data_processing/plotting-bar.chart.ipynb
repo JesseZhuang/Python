{
 "cells": [
  {
   "cell_type": "code",
   "execution_count": 46,
   "metadata": {},
   "outputs": [],
   "source": [
    "import pandas as pd\n",
    "import numpy as np\n",
    "import matplotlib.pyplot as plt"
   ]
  },
  {
   "cell_type": "code",
   "execution_count": 47,
   "metadata": {
    "scrolled": false
   },
   "outputs": [
    {
     "name": "stdout",
     "output_type": "stream",
     "text": [
      "                      date  group_name impact    case_id   sev  nTicketBySev\n",
      "0  2018-01-04 00:35:42 UTC     group-a      3  135338635  Sev2         156.0\n",
      "1  2018-01-05 16:35:43 UTC     group-a      3  136492446  Sev3         939.0\n",
      "2  2018-01-06 02:12:15 UTC     group-a      3  136535970  Sev4         107.0\n",
      "3  2018-01-06 13:05:46 UTC     group-a      3  136570509  Sev5         143.0\n",
      "4  2018-01-07 12:20:49 UTC     group-a      3  136620073   NaN           NaN\n",
      "<class 'pandas.core.frame.DataFrame'>\n"
     ]
    },
    {
     "data": {
      "text/html": [
       "<div>\n",
       "<style scoped>\n",
       "    .dataframe tbody tr th:only-of-type {\n",
       "        vertical-align: middle;\n",
       "    }\n",
       "\n",
       "    .dataframe tbody tr th {\n",
       "        vertical-align: top;\n",
       "    }\n",
       "\n",
       "    .dataframe thead th {\n",
       "        text-align: right;\n",
       "    }\n",
       "</style>\n",
       "<table border=\"1\" class=\"dataframe\">\n",
       "  <thead>\n",
       "    <tr style=\"text-align: right;\">\n",
       "      <th></th>\n",
       "      <th>date</th>\n",
       "      <th>group_name</th>\n",
       "      <th>impact</th>\n",
       "      <th>case_id</th>\n",
       "      <th>sev</th>\n",
       "      <th>nTicketBySev</th>\n",
       "    </tr>\n",
       "  </thead>\n",
       "  <tbody>\n",
       "    <tr>\n",
       "      <th>0</th>\n",
       "      <td>2018-01-04 00:35:42 UTC</td>\n",
       "      <td>group-a</td>\n",
       "      <td>3</td>\n",
       "      <td>135338635</td>\n",
       "      <td>Sev2</td>\n",
       "      <td>156.0</td>\n",
       "    </tr>\n",
       "    <tr>\n",
       "      <th>1</th>\n",
       "      <td>2018-01-05 16:35:43 UTC</td>\n",
       "      <td>group-a</td>\n",
       "      <td>3</td>\n",
       "      <td>136492446</td>\n",
       "      <td>Sev3</td>\n",
       "      <td>939.0</td>\n",
       "    </tr>\n",
       "    <tr>\n",
       "      <th>2</th>\n",
       "      <td>2018-01-06 02:12:15 UTC</td>\n",
       "      <td>group-a</td>\n",
       "      <td>3</td>\n",
       "      <td>136535970</td>\n",
       "      <td>Sev4</td>\n",
       "      <td>107.0</td>\n",
       "    </tr>\n",
       "    <tr>\n",
       "      <th>3</th>\n",
       "      <td>2018-01-06 13:05:46 UTC</td>\n",
       "      <td>group-a</td>\n",
       "      <td>3</td>\n",
       "      <td>136570509</td>\n",
       "      <td>Sev5</td>\n",
       "      <td>143.0</td>\n",
       "    </tr>\n",
       "    <tr>\n",
       "      <th>4</th>\n",
       "      <td>2018-01-07 12:20:49 UTC</td>\n",
       "      <td>group-a</td>\n",
       "      <td>3</td>\n",
       "      <td>136620073</td>\n",
       "      <td>NaN</td>\n",
       "      <td>NaN</td>\n",
       "    </tr>\n",
       "  </tbody>\n",
       "</table>\n",
       "</div>"
      ],
      "text/plain": [
       "                      date  group_name impact    case_id   sev  nTicketBySev\n",
       "0  2018-01-04 00:35:42 UTC     group-a      3  135338635  Sev2         156.0\n",
       "1  2018-01-05 16:35:43 UTC     group-a      3  136492446  Sev3         939.0\n",
       "2  2018-01-06 02:12:15 UTC     group-a      3  136535970  Sev4         107.0\n",
       "3  2018-01-06 13:05:46 UTC     group-a      3  136570509  Sev5         143.0\n",
       "4  2018-01-07 12:20:49 UTC     group-a      3  136620073   NaN           NaN"
      ]
     },
     "execution_count": 47,
     "metadata": {},
     "output_type": "execute_result"
    }
   ],
   "source": [
    "%matplotlib inline\n",
    "\n",
    "table = pd.read_csv(\"issues.sev.csv\", header=1)\n",
    "print(table.head())\n",
    "print(type(table))\n",
    "table.head()"
   ]
  },
  {
   "cell_type": "code",
   "execution_count": 48,
   "metadata": {
    "scrolled": false
   },
   "outputs": [
    {
     "data": {
      "image/png": "[encoded data removed]",
      "text/plain": [
       "<Figure size 432x288 with 1 Axes>"
      ]
     },
     "metadata": {
      "needs_background": "light"
     },
     "output_type": "display_data"
    }
   ],
   "source": [
    "plt.bar(x=np.arange(1,5),height=table['nTicketBySev'][:4])\n",
    "plt.show()"
   ]
  },
  {
   "cell_type": "code",
   "execution_count": 49,
   "metadata": {
    "scrolled": true
   },
   "outputs": [
    {
     "data": {
      "image/png": "[encoded data removed]",
      "text/plain": [
       "<Figure size 432x288 with 1 Axes>"
      ]
     },
     "metadata": {
      "needs_background": "light"
     },
     "output_type": "display_data"
    }
   ],
   "source": [
    "plt.bar(x=table['sev'][:4],height=table['nTicketBySev'][:4])\n",
    "plt.show()"
   ]
  },
  {
   "cell_type": "code",
   "execution_count": 52,
   "metadata": {},
   "outputs": [
    {
     "name": "stdout",
     "output_type": "stream",
     "text": [
      "143.0    1\n",
      "107.0    1\n",
      "939.0    1\n",
      "156.0    1\n",
      "Name: nTicketBySev, dtype: int64\n"
     ]
    },
    {
     "data": {
      "text/plain": [
       "<matplotlib.axes._subplots.AxesSubplot at 0x126538668>"
      ]
     },
     "execution_count": 52,
     "metadata": {},
     "output_type": "execute_result"
    },
    {
     "data": {
      "image/png": "[encoded data removed]",
      "text/plain": [
       "<Figure size 432x288 with 1 Axes>"
      ]
     },
     "metadata": {
      "needs_background": "light"
     },
     "output_type": "display_data"
    }
   ],
   "source": [
    "print(table.nTicketBySev.value_counts())\n",
    "table.impact.value_counts().plot(kind='bar')"
   ]
  },
  {
   "cell_type": "markdown",
   "metadata": {},
   "source": [
    "# References\n",
    "\n",
    "1. [Simple bar charts](https://fcpython.com/visualisation/simple-bar-charts-in-matplotlib)\n",
    "1. [histogram, visualize distribution](https://www.machinelearningplus.com/plots/matplotlib-histogram-python-examples/)"
   ]
  }
 ],
 "metadata": {
  "kernelspec": {
   "display_name": "Python 3",
   "language": "python",
   "name": "python3"
  },
  "language_info": {
   "codemirror_mode": {
    "name": "ipython",
    "version": 3
   },
   "file_extension": ".py",
   "mimetype": "text/x-python",
   "name": "python",
   "nbconvert_exporter": "python",
   "pygments_lexer": "ipython3",
   "version": "3.7.3"
  }
 },
 "nbformat": 4,
 "nbformat_minor": 2
}
