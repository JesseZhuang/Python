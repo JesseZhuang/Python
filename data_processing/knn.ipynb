{
 "cells": [
  {
   "cell_type": "markdown",
   "metadata": {},
   "source": [
    "# K nearest neighbors\n",
    "\n",
    "- [wiki](https://en.wikipedia.org/wiki/K-nearest_neighbors_algorithm)"
   ]
  },
  {
   "cell_type": "code",
   "execution_count": 15,
   "metadata": {},
   "outputs": [
    {
     "data": {
      "text/plain": [
       "array([1., 0., 7., 0., 1.])"
      ]
     },
     "execution_count": 15,
     "metadata": {},
     "output_type": "execute_result"
    }
   ],
   "source": [
    "import numpy as np\n",
    "\n",
    "data = np.array([[0, 1, 5, 1, 0],\n",
    "                [1, 0, 7, 0, 1],\n",
    "                [0, 1, 2, 1, 0],\n",
    "                [1, 1, 4.2, 1, 0],\n",
    "                [0, 0, 7.8, 0, 1],\n",
    "                [1, 0, 3.9, 1, 0],\n",
    "                [0, 1, 4, 1, 0],\n",
    "                [1, 1, 2, 0, 0],\n",
    "                [0, 0, 3.5, 0, 1],\n",
    "                [1, 0, 2.6, 1, 0],\n",
    "                [0, 0, 4.1, 0, 1],\n",
    "                [0, 1, 1.5, 0, 1],\n",
    "                [1, 1, 1.75, 1, 0],\n",
    "                [1, 0, 1.3, 0, 0],\n",
    "                [1, 1, 2.1, 0, 0],\n",
    "                [1, 1, 0.2, 1, 0],\n",
    "                [1, 1, 5.2, 0, 1],\n",
    "                [0, 1, 2, 1, 0],\n",
    "                [1, 0, 5.5, 0, 1],\n",
    "                [0, 0, 2, 1, 0],\n",
    "                [1, 1, 1.7, 0, 0],\n",
    "                [0, 1, 3, 1, 1],\n",
    "                [1, 1, 1.9, 1, 0],\n",
    "                [0, 1, 3.1, 0, 1],\n",
    "                [0, 1, 2.3, 0, 0],\n",
    "                [0, 0, 1.1, 1, 0],\n",
    "                [1, 1, 2.5, 1, 1],\n",
    "                [1, 1, 5, 0, 1],\n",
    "                [1, 0, 7.5, 1, 1],\n",
    "                [0, 0, 0.5, 1, 0],\n",
    "                [0, 0, 1.5, 1, 0],\n",
    "                [1, 0, 3.2, 1, 0],\n",
    "                [0, 0, 2.15, 1, 0],\n",
    "                [1, 1, 4.2, 0, 1],\n",
    "                [1, 0, 6.5, 0, 1],\n",
    "                [1, 0, 0.5, 0, 0],\n",
    "                [0, 0, 3.5, 0, 1],\n",
    "                [0, 0, 1.75, 0, 0],\n",
    "                [1, 1, 5, 0, 1],\n",
    "                [0, 0, 2, 1, 0],\n",
    "                [0, 1, 1.3, 1, 1],\n",
    "                [0, 1, 0.2, 0, 0],\n",
    "                [1, 1, 2.2, 0, 0],\n",
    "                [0, 1, 1.2, 1, 0],\n",
    "                [1, 1, 4.2, 0, 1]])\n",
    "\n",
    "data[1]"
   ]
  },
  {
   "cell_type": "code",
   "execution_count": 16,
   "metadata": {
    "scrolled": true
   },
   "outputs": [
    {
     "data": {
      "text/html": [
       "<div>\n",
       "<style scoped>\n",
       "    .dataframe tbody tr th:only-of-type {\n",
       "        vertical-align: middle;\n",
       "    }\n",
       "\n",
       "    .dataframe tbody tr th {\n",
       "        vertical-align: top;\n",
       "    }\n",
       "\n",
       "    .dataframe thead th {\n",
       "        text-align: right;\n",
       "    }\n",
       "</style>\n",
       "<table border=\"1\" class=\"dataframe\">\n",
       "  <thead>\n",
       "    <tr style=\"text-align: right;\">\n",
       "      <th></th>\n",
       "      <th>was_raining</th>\n",
       "      <th>was_bad_traffic</th>\n",
       "      <th>distance_miles</th>\n",
       "      <th>rural_address</th>\n",
       "      <th>late</th>\n",
       "    </tr>\n",
       "  </thead>\n",
       "  <tbody>\n",
       "    <tr>\n",
       "      <th>0</th>\n",
       "      <td>0.0</td>\n",
       "      <td>1.0</td>\n",
       "      <td>5.0</td>\n",
       "      <td>1.0</td>\n",
       "      <td>0.0</td>\n",
       "    </tr>\n",
       "    <tr>\n",
       "      <th>1</th>\n",
       "      <td>1.0</td>\n",
       "      <td>0.0</td>\n",
       "      <td>7.0</td>\n",
       "      <td>0.0</td>\n",
       "      <td>1.0</td>\n",
       "    </tr>\n",
       "    <tr>\n",
       "      <th>2</th>\n",
       "      <td>0.0</td>\n",
       "      <td>1.0</td>\n",
       "      <td>2.0</td>\n",
       "      <td>1.0</td>\n",
       "      <td>0.0</td>\n",
       "    </tr>\n",
       "    <tr>\n",
       "      <th>3</th>\n",
       "      <td>1.0</td>\n",
       "      <td>1.0</td>\n",
       "      <td>4.2</td>\n",
       "      <td>1.0</td>\n",
       "      <td>0.0</td>\n",
       "    </tr>\n",
       "    <tr>\n",
       "      <th>4</th>\n",
       "      <td>0.0</td>\n",
       "      <td>0.0</td>\n",
       "      <td>7.8</td>\n",
       "      <td>0.0</td>\n",
       "      <td>1.0</td>\n",
       "    </tr>\n",
       "  </tbody>\n",
       "</table>\n",
       "</div>"
      ],
      "text/plain": [
       "   was_raining  was_bad_traffic  distance_miles  rural_address  late\n",
       "0          0.0              1.0             5.0            1.0   0.0\n",
       "1          1.0              0.0             7.0            0.0   1.0\n",
       "2          0.0              1.0             2.0            1.0   0.0\n",
       "3          1.0              1.0             4.2            1.0   0.0\n",
       "4          0.0              0.0             7.8            0.0   1.0"
      ]
     },
     "execution_count": 16,
     "metadata": {},
     "output_type": "execute_result"
    }
   ],
   "source": [
    "import pandas as pd\n",
    "\n",
    "table = pd.DataFrame(data, columns=[\"was_raining\", \"was_bad_traffic\", \"distance_miles\", \"rural_address\", \"late\"])\n",
    "table.head()"
   ]
  },
  {
   "cell_type": "code",
   "execution_count": 17,
   "metadata": {},
   "outputs": [],
   "source": [
    "target = table[\"late\"].tolist()\n",
    "input_data = table[[\"was_raining\", \"was_bad_traffic\", \"distance_miles\", \"rural_address\"]].values"
   ]
  },
  {
   "cell_type": "code",
   "execution_count": 18,
   "metadata": {},
   "outputs": [
    {
     "data": {
      "text/plain": [
       "KNeighborsClassifier(algorithm='auto', leaf_size=30, metric='minkowski',\n",
       "                     metric_params=None, n_jobs=None, n_neighbors=2, p=2,\n",
       "                     weights='uniform')"
      ]
     },
     "execution_count": 18,
     "metadata": {},
     "output_type": "execute_result"
    }
   ],
   "source": [
    "from sklearn.neighbors import KNeighborsClassifier\n",
    "\n",
    "# KNN will consider two other \"closest\" records to make a decision.\n",
    "knn_classifier = KNeighborsClassifier(n_neighbors = 2)\n",
    "\n",
    "knn_classifier.fit(input_data, target)"
   ]
  },
  {
   "cell_type": "code",
   "execution_count": 19,
   "metadata": {},
   "outputs": [
    {
     "name": "stdout",
     "output_type": "stream",
     "text": [
      "prediction: [0.]\n"
     ]
    }
   ],
   "source": [
    "data = np.array([[0, 0, 2.1, 1]])\n",
    "\n",
    "print(\"prediction:\", knn_classifier.predict(data))"
   ]
  },
  {
   "cell_type": "code",
   "execution_count": 20,
   "metadata": {},
   "outputs": [
    {
     "name": "stdout",
     "output_type": "stream",
     "text": [
      "[0. 0. 1.]\n"
     ]
    }
   ],
   "source": [
    "data = np.array([[0, 0, 2.1, 1],\n",
    "                 [0, 1, 5, 0],\n",
    "                 [1, 1, 3.1, 1]\n",
    "                ])\n",
    "\n",
    "print(knn_classifier.predict(data))"
   ]
  }
 ],
 "metadata": {
  "kernelspec": {
   "display_name": "Python 3",
   "language": "python",
   "name": "python3"
  },
  "language_info": {
   "codemirror_mode": {
    "name": "ipython",
    "version": 3
   },
   "file_extension": ".py",
   "mimetype": "text/x-python",
   "name": "python",
   "nbconvert_exporter": "python",
   "pygments_lexer": "ipython3",
   "version": "3.7.3"
  }
 },
 "nbformat": 4,
 "nbformat_minor": 2
}
